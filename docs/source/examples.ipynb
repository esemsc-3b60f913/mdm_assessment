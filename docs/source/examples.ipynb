{
 "cells": [
  {
   "cell_type": "code",
   "execution_count": null,
   "metadata": {
    "vscode": {
     "languageId": "plaintext"
    }
   },
   "outputs": [],
   "source": [
    "import numpy as np\n",
    "import matplotlib.pyplot as plt\n",
    "from acsefunctions import exp, sinh\n",
    "\n",
    "x = np.linspace(-2, 2, 100)\n",
    "plt.plot(x, exp(x), label='exp(x)')\n",
    "plt.plot(x, sinh(x), label='sinh(x)')\n",
    "plt.legend()\n",
    "plt.show()"
   ]
  }
 ],
 "metadata": {
  "language_info": {
   "name": "python"
  }
 },
 "nbformat": 4,
 "nbformat_minor": 2
}
