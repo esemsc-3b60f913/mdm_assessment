{
 "cells": [
  {
   "cell_type": "code",
   "execution_count": null,
   "metadata": {
    "vscode": {
     "languageId": "plaintext"
    }
   },
   "outputs": [],
   "source": [
    "import timeit\n",
    "import numpy as np\n",
    "import pandas as pd\n",
    "from acsefunctions import exp\n",
    "import matplotlib.pyplot as plt\n",
    "\n",
    "x = np.linspace(-10, 10, 1000)\n",
    "tols = [1e-2, 1e-4, 1e-6, 1e-8, 1e-10]\n",
    "errors = []\n",
    "times = []\n",
    "\n",
    "for tol in tols:\n",
    "    start = timeit.default_timer()\n",
    "    y_my = exp(x, tol=tol)\n",
    "    end = timeit.default_timer()\n",
    "    times.append(end - start)\n",
    "    error = np.max(np.abs(y_my - np.exp(x)))\n",
    "    errors.append(error)\n",
    "\n",
    "time_np = timeit.timeit(lambda: np.exp(x), number=1)\n",
    "df = pd.DataFrame({\n",
    "    'tolerance': tols,\n",
    "    'error': errors,\n",
    "    'time': times,\n",
    "    'numpy_time': time_np\n",
    "})\n",
    "\n",
    "plt.plot(tols, errors, 'o-', label='Error')\n",
    "plt.xscale('log')\n",
    "plt.yscale('log')\n",
    "plt.xlabel('Tolerance')\n",
    "plt.ylabel('Max Error')\n",
    "plt.legend()\n",
    "plt.show()\n",
    "\n",
    "print(df)"
   ]
  }
 ],
 "metadata": {
  "language_info": {
   "name": "python"
  }
 },
 "nbformat": 4,
 "nbformat_minor": 2
}
